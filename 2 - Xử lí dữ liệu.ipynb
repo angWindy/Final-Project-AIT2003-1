{
 "cells": [
  {
   "cell_type": "markdown",
   "metadata": {},
   "source": [
    "# 2 Xử lí dữ liệu\n",
    "![green-divider](https://user-images.githubusercontent.com/7065401/52071924-c003ad80-2562-11e9-8297-1c6595f8a7ff.png)"
   ]
  },
  {
   "cell_type": "markdown",
   "metadata": {},
   "source": [
    "## 2.1 Cài đặt thư viện và chuẩn bị dữ liệu thô"
   ]
  },
  {
   "cell_type": "code",
   "execution_count": 1,
   "metadata": {},
   "outputs": [
    {
     "name": "stdout",
     "output_type": "stream",
     "text": [
      "Requirement already satisfied: matplotlib in c:\\users\\ad\\appdata\\local\\programs\\python\\python311\\lib\\site-packages (3.7.2)\n",
      "Requirement already satisfied: pandas in c:\\users\\ad\\appdata\\local\\programs\\python\\python311\\lib\\site-packages (2.1.0)\n",
      "Requirement already satisfied: numpy in c:\\users\\ad\\appdata\\local\\programs\\python\\python311\\lib\\site-packages (1.25.2)\n",
      "Requirement already satisfied: seaborn in c:\\users\\ad\\appdata\\local\\programs\\python\\python311\\lib\\site-packages (0.13.0)\n",
      "Requirement already satisfied: wordcloud in c:\\users\\ad\\appdata\\local\\programs\\python\\python311\\lib\\site-packages (1.9.2)\n",
      "Requirement already satisfied: contourpy>=1.0.1 in c:\\users\\ad\\appdata\\local\\programs\\python\\python311\\lib\\site-packages (from matplotlib) (1.1.0)\n",
      "Requirement already satisfied: cycler>=0.10 in c:\\users\\ad\\appdata\\local\\programs\\python\\python311\\lib\\site-packages (from matplotlib) (0.11.0)\n",
      "Requirement already satisfied: fonttools>=4.22.0 in c:\\users\\ad\\appdata\\local\\programs\\python\\python311\\lib\\site-packages (from matplotlib) (4.42.1)\n",
      "Requirement already satisfied: kiwisolver>=1.0.1 in c:\\users\\ad\\appdata\\local\\programs\\python\\python311\\lib\\site-packages (from matplotlib) (1.4.5)\n",
      "Requirement already satisfied: packaging>=20.0 in c:\\users\\ad\\appdata\\local\\programs\\python\\python311\\lib\\site-packages (from matplotlib) (23.1)\n",
      "Requirement already satisfied: pillow>=6.2.0 in c:\\users\\ad\\appdata\\local\\programs\\python\\python311\\lib\\site-packages (from matplotlib) (10.0.0)\n",
      "Requirement already satisfied: pyparsing<3.1,>=2.3.1 in c:\\users\\ad\\appdata\\local\\programs\\python\\python311\\lib\\site-packages (from matplotlib) (3.0.9)\n",
      "Requirement already satisfied: python-dateutil>=2.7 in c:\\users\\ad\\appdata\\local\\programs\\python\\python311\\lib\\site-packages (from matplotlib) (2.8.2)\n",
      "Requirement already satisfied: pytz>=2020.1 in c:\\users\\ad\\appdata\\local\\programs\\python\\python311\\lib\\site-packages (from pandas) (2023.3.post1)\n",
      "Requirement already satisfied: tzdata>=2022.1 in c:\\users\\ad\\appdata\\local\\programs\\python\\python311\\lib\\site-packages (from pandas) (2023.3)\n",
      "Requirement already satisfied: six>=1.5 in c:\\users\\ad\\appdata\\local\\programs\\python\\python311\\lib\\site-packages (from python-dateutil>=2.7->matplotlib) (1.16.0)\n",
      "Note: you may need to restart the kernel to use updated packages.\n",
      "Requirement already satisfied: openpyxl in c:\\users\\ad\\appdata\\local\\programs\\python\\python311\\lib\\site-packages (3.1.2)\n",
      "Requirement already satisfied: et-xmlfile in c:\\users\\ad\\appdata\\local\\programs\\python\\python311\\lib\\site-packages (from openpyxl) (1.1.0)\n",
      "Note: you may need to restart the kernel to use updated packages.\n"
     ]
    }
   ],
   "source": [
    "%pip install matplotlib pandas numpy seaborn wordcloud\n",
    "%pip install openpyxl"
   ]
  },
  {
   "cell_type": "code",
   "execution_count": 2,
   "metadata": {},
   "outputs": [],
   "source": [
    "import numpy as np\n",
    "import pandas as pd\n",
    "from datetime import datetime"
   ]
  },
  {
   "cell_type": "code",
   "execution_count": 3,
   "metadata": {},
   "outputs": [],
   "source": [
    "raw_df = pd.read_csv('Data/GenshinImpact.vi.csv')"
   ]
  },
  {
   "cell_type": "code",
   "execution_count": 4,
   "metadata": {},
   "outputs": [
    {
     "name": "stdout",
     "output_type": "stream",
     "text": [
      "<class 'pandas.core.frame.DataFrame'>\n",
      "RangeIndex: 300 entries, 0 to 299\n",
      "Data columns (total 53 columns):\n",
      " #   Column                         Non-Null Count  Dtype  \n",
      "---  ------                         --------------  -----  \n",
      " 0   post_id                        300 non-null    int64  \n",
      " 1   text                           289 non-null    object \n",
      " 2   post_text                      289 non-null    object \n",
      " 3   shared_text                    68 non-null     object \n",
      " 4   original_text                  1 non-null      object \n",
      " 5   time                           300 non-null    object \n",
      " 6   timestamp                      300 non-null    int64  \n",
      " 7   image                          227 non-null    object \n",
      " 8   image_lowquality               300 non-null    object \n",
      " 9   images                         300 non-null    object \n",
      " 10  images_description             300 non-null    object \n",
      " 11  images_lowquality              300 non-null    object \n",
      " 12  images_lowquality_description  300 non-null    object \n",
      " 13  video                          30 non-null     object \n",
      " 14  video_duration_seconds         0 non-null      float64\n",
      " 15  video_height                   0 non-null      float64\n",
      " 16  video_id                       30 non-null     float64\n",
      " 17  video_quality                  0 non-null      float64\n",
      " 18  video_size_MB                  0 non-null      float64\n",
      " 19  video_thumbnail                30 non-null     object \n",
      " 20  video_watches                  0 non-null      float64\n",
      " 21  video_width                    0 non-null      float64\n",
      " 22  likes                          177 non-null    float64\n",
      " 23  comments                       300 non-null    int64  \n",
      " 24  shares                         300 non-null    int64  \n",
      " 25  post_url                       300 non-null    object \n",
      " 26  link                           236 non-null    object \n",
      " 27  links                          300 non-null    object \n",
      " 28  user_id                        300 non-null    int64  \n",
      " 29  username                       300 non-null    object \n",
      " 30  user_url                       300 non-null    object \n",
      " 31  is_live                        300 non-null    bool   \n",
      " 32  factcheck                      0 non-null      float64\n",
      " 33  shared_post_id                 30 non-null     float64\n",
      " 34  shared_time                    30 non-null     object \n",
      " 35  shared_user_id                 30 non-null     float64\n",
      " 36  shared_username                30 non-null     object \n",
      " 37  shared_post_url                30 non-null     object \n",
      " 38  available                      300 non-null    bool   \n",
      " 39  comments_full                  300 non-null    object \n",
      " 40  reactors                       123 non-null    object \n",
      " 41  w3_fb_url                      123 non-null    object \n",
      " 42  reactions                      123 non-null    object \n",
      " 43  reaction_count                 300 non-null    int64  \n",
      " 44  with                           30 non-null     object \n",
      " 45  page_id                        300 non-null    int64  \n",
      " 46  sharers                        0 non-null      float64\n",
      " 47  image_id                       191 non-null    float64\n",
      " 48  image_ids                      300 non-null    object \n",
      " 49  video_ids                      38 non-null     object \n",
      " 50  videos                         38 non-null     object \n",
      " 51  was_live                       300 non-null    bool   \n",
      " 52  fetched_time                   123 non-null    object \n",
      "dtypes: bool(3), float64(13), int64(7), object(30)\n",
      "memory usage: 118.2+ KB\n"
     ]
    }
   ],
   "source": [
    "raw_df.info()"
   ]
  },
  {
   "cell_type": "code",
   "execution_count": 5,
   "metadata": {},
   "outputs": [
    {
     "name": "stdout",
     "output_type": "stream",
     "text": [
      "Kích cỡ dữ liệu thô : 300 x 53\n"
     ]
    }
   ],
   "source": [
    "print(f\"Kích cỡ dữ liệu thô : {raw_df.shape[0]} x {raw_df.shape[1]}\")"
   ]
  },
  {
   "cell_type": "markdown",
   "metadata": {},
   "source": [
    "## 2.2 Xử lí dữ liệu"
   ]
  },
  {
   "cell_type": "markdown",
   "metadata": {},
   "source": [
    "### 2.2.1 Xóa các bài viết bị lỗi thu dữ liệu"
   ]
  },
  {
   "cell_type": "code",
   "execution_count": 6,
   "metadata": {},
   "outputs": [
    {
     "name": "stdout",
     "output_type": "stream",
     "text": [
      "Index([123, 124, 125, 126, 127, 128, 129, 130, 131, 132,\n",
      "       ...\n",
      "       290, 291, 292, 293, 294, 295, 296, 297, 298, 299],\n",
      "      dtype='int64', length=177)\n"
     ]
    }
   ],
   "source": [
    "zero_reaction_rows = raw_df[raw_df['reaction_count'] == 0]\n",
    "indices_of_zero_reaction_rows = zero_reaction_rows.index\n",
    "print(indices_of_zero_reaction_rows)"
   ]
  },
  {
   "cell_type": "markdown",
   "metadata": {},
   "source": [
    "Nhận thấy rằng những bài viết từ bài viết có index = 123 trở đi đều bị lỗi. Nên ta lược bỏ các bài viết từ bài viết có index = 123 trở đi."
   ]
  },
  {
   "cell_type": "code",
   "execution_count": 7,
   "metadata": {},
   "outputs": [],
   "source": [
    "cooked_df = raw_df.drop(index=range(123, raw_df.index.max() + 1))"
   ]
  },
  {
   "cell_type": "code",
   "execution_count": 8,
   "metadata": {},
   "outputs": [
    {
     "name": "stdout",
     "output_type": "stream",
     "text": [
      "<class 'pandas.core.frame.DataFrame'>\n",
      "RangeIndex: 123 entries, 0 to 122\n",
      "Data columns (total 53 columns):\n",
      " #   Column                         Non-Null Count  Dtype  \n",
      "---  ------                         --------------  -----  \n",
      " 0   post_id                        123 non-null    int64  \n",
      " 1   text                           123 non-null    object \n",
      " 2   post_text                      123 non-null    object \n",
      " 3   shared_text                    28 non-null     object \n",
      " 4   original_text                  0 non-null      object \n",
      " 5   time                           123 non-null    object \n",
      " 6   timestamp                      123 non-null    int64  \n",
      " 7   image                          91 non-null     object \n",
      " 8   image_lowquality               123 non-null    object \n",
      " 9   images                         123 non-null    object \n",
      " 10  images_description             123 non-null    object \n",
      " 11  images_lowquality              123 non-null    object \n",
      " 12  images_lowquality_description  123 non-null    object \n",
      " 13  video                          12 non-null     object \n",
      " 14  video_duration_seconds         0 non-null      float64\n",
      " 15  video_height                   0 non-null      float64\n",
      " 16  video_id                       12 non-null     float64\n",
      " 17  video_quality                  0 non-null      float64\n",
      " 18  video_size_MB                  0 non-null      float64\n",
      " 19  video_thumbnail                12 non-null     object \n",
      " 20  video_watches                  0 non-null      float64\n",
      " 21  video_width                    0 non-null      float64\n",
      " 22  likes                          0 non-null      float64\n",
      " 23  comments                       123 non-null    int64  \n",
      " 24  shares                         123 non-null    int64  \n",
      " 25  post_url                       123 non-null    object \n",
      " 26  link                           99 non-null     object \n",
      " 27  links                          123 non-null    object \n",
      " 28  user_id                        123 non-null    int64  \n",
      " 29  username                       123 non-null    object \n",
      " 30  user_url                       123 non-null    object \n",
      " 31  is_live                        123 non-null    bool   \n",
      " 32  factcheck                      0 non-null      float64\n",
      " 33  shared_post_id                 11 non-null     float64\n",
      " 34  shared_time                    11 non-null     object \n",
      " 35  shared_user_id                 11 non-null     float64\n",
      " 36  shared_username                11 non-null     object \n",
      " 37  shared_post_url                11 non-null     object \n",
      " 38  available                      123 non-null    bool   \n",
      " 39  comments_full                  123 non-null    object \n",
      " 40  reactors                       123 non-null    object \n",
      " 41  w3_fb_url                      123 non-null    object \n",
      " 42  reactions                      123 non-null    object \n",
      " 43  reaction_count                 123 non-null    int64  \n",
      " 44  with                           11 non-null     object \n",
      " 45  page_id                        123 non-null    int64  \n",
      " 46  sharers                        0 non-null      float64\n",
      " 47  image_id                       79 non-null     float64\n",
      " 48  image_ids                      123 non-null    object \n",
      " 49  video_ids                      14 non-null     object \n",
      " 50  videos                         14 non-null     object \n",
      " 51  was_live                       123 non-null    bool   \n",
      " 52  fetched_time                   123 non-null    object \n",
      "dtypes: bool(3), float64(13), int64(7), object(30)\n",
      "memory usage: 48.5+ KB\n"
     ]
    }
   ],
   "source": [
    "cooked_df.info()"
   ]
  },
  {
   "cell_type": "markdown",
   "metadata": {},
   "source": [
    "### 2.2.2 Xóa các trường dữ liệu không chứa bất cứ dữ liệu nào"
   ]
  },
  {
   "cell_type": "markdown",
   "metadata": {},
   "source": [
    "Nhận thấy vẫn còn các trường không chứa dữ liệu gì"
   ]
  },
  {
   "cell_type": "code",
   "execution_count": 9,
   "metadata": {},
   "outputs": [],
   "source": [
    "cooked_df = cooked_df.dropna(axis=1, how='all')"
   ]
  },
  {
   "cell_type": "markdown",
   "metadata": {},
   "source": [
    "Lấy các trường dữ liệu cần thiết"
   ]
  },
  {
   "cell_type": "markdown",
   "metadata": {},
   "source": [
    "### 2.2.3 Lọc ra các trường dữ liệu cần thiết"
   ]
  },
  {
   "cell_type": "code",
   "execution_count": 10,
   "metadata": {},
   "outputs": [],
   "source": [
    "cooked_df = cooked_df[['post_url', 'post_text', 'time', 'image', 'video', 'comments', 'shares', 'user_id', 'comments_full', 'reactions', 'reaction_count']]"
   ]
  },
  {
   "cell_type": "markdown",
   "metadata": {},
   "source": [
    "### 2.2.4 Tùy chỉnh dữ liệu cho phù hợp với việc phân tích"
   ]
  },
  {
   "cell_type": "markdown",
   "metadata": {},
   "source": [
    "Thêm cột số lượng từng cảm xúc riêng"
   ]
  },
  {
   "cell_type": "code",
   "execution_count": 11,
   "metadata": {},
   "outputs": [
    {
     "name": "stderr",
     "output_type": "stream",
     "text": [
      "C:\\Users\\AD\\AppData\\Local\\Temp\\ipykernel_17092\\1140268458.py:3: FutureWarning: Returning a DataFrame from Series.apply when the supplied function returns a Series is deprecated and will be removed in a future version.\n",
      "  df2 = df1['reactions'].apply(pd.Series)\n"
     ]
    }
   ],
   "source": [
    "df1 = cooked_df\n",
    "df1['reactions'] = df1['reactions'].apply(lambda x : dict(eval(x)))\n",
    "df2 = df1['reactions'].apply(pd.Series)\n",
    "\n",
    "cooked_df = pd.concat([df1, df2], axis=1).drop('reactions', axis=1)"
   ]
  },
  {
   "cell_type": "markdown",
   "metadata": {},
   "source": [
    "Sửa số lượng của các cột cảm xúc không có số lượng cảm xúc thành số lượng là 0 và sửa kiểu dữ liệu"
   ]
  },
  {
   "cell_type": "code",
   "execution_count": 12,
   "metadata": {},
   "outputs": [],
   "source": [
    "for i in range(0, len(cooked_df['thích'].values), 1):\n",
    "    if pd.isna(cooked_df['thích'].values[i]):\n",
    "        cooked_df['thích'].values[i] = 0\n",
    "\n",
    "    if pd.isna(cooked_df['yêu thích'].values[i]):\n",
    "        cooked_df['yêu thích'].values[i] = 0\n",
    "\n",
    "    if pd.isna(cooked_df['haha'].values[i]):\n",
    "        cooked_df['haha'].values[i] = 0\n",
    "\n",
    "    if pd.isna(cooked_df['wow'].values[i]):\n",
    "        cooked_df['wow'].values[i] = 0\n",
    "\n",
    "    if pd.isna(cooked_df['buồn'].values[i]):\n",
    "        cooked_df['buồn'].values[i] = 0\n",
    "\n",
    "    if pd.isna(cooked_df['phẫn nộ'].values[i]):\n",
    "        cooked_df['phẫn nộ'].values[i] = 0\n",
    "\n",
    "    if pd.isna(cooked_df['thương thương'].values[i]):\n",
    "        cooked_df['thương thương'].values[i] = 0\n",
    "\n",
    "    if pd.isna(cooked_df['shares'].values[i]):\n",
    "        cooked_df['shares'].values[i] = 0\n",
    "    \n",
    "    if pd.isna(cooked_df['comments'].values[i]):\n",
    "        cooked_df['comments'].values[i] = 0\n",
    "\n",
    "cooked_df['thích'] = cooked_df['thích'].astype(int)\n",
    "cooked_df['yêu thích'] = cooked_df['yêu thích'].astype(int)\n",
    "cooked_df['haha'] = cooked_df['haha'].astype(int)\n",
    "cooked_df['wow'] = cooked_df['wow'].astype(int)\n",
    "cooked_df['thương thương'] = cooked_df['thương thương'].astype(int)\n",
    "cooked_df['buồn'] = cooked_df['buồn'].astype(int)\n",
    "cooked_df['phẫn nộ'] = cooked_df['phẫn nộ'].astype(int)"
   ]
  },
  {
   "cell_type": "markdown",
   "metadata": {},
   "source": [
    "### 2.2.5 Thêm cột thể hiện giờ đăng bài viết"
   ]
  },
  {
   "cell_type": "code",
   "execution_count": 13,
   "metadata": {},
   "outputs": [],
   "source": [
    "cooked_df['time'] = cooked_df['time'].apply(lambda x: datetime.strptime(x, \"%Y-%m-%d %H:%M:%S\"))\n",
    "df = cooked_df['posted_hour'] = cooked_df['time'].apply(lambda x: x.hour)"
   ]
  },
  {
   "cell_type": "markdown",
   "metadata": {},
   "source": [
    "## 2.3 Tổng kết"
   ]
  },
  {
   "cell_type": "code",
   "execution_count": 14,
   "metadata": {},
   "outputs": [
    {
     "name": "stdout",
     "output_type": "stream",
     "text": [
      "<class 'pandas.core.frame.DataFrame'>\n",
      "RangeIndex: 123 entries, 0 to 122\n",
      "Data columns (total 18 columns):\n",
      " #   Column          Non-Null Count  Dtype         \n",
      "---  ------          --------------  -----         \n",
      " 0   post_url        123 non-null    object        \n",
      " 1   post_text       123 non-null    object        \n",
      " 2   time            123 non-null    datetime64[ns]\n",
      " 3   image           91 non-null     object        \n",
      " 4   video           12 non-null     object        \n",
      " 5   comments        123 non-null    int64         \n",
      " 6   shares          123 non-null    int64         \n",
      " 7   user_id         123 non-null    int64         \n",
      " 8   comments_full   123 non-null    object        \n",
      " 9   reaction_count  123 non-null    int64         \n",
      " 10  thích           123 non-null    int32         \n",
      " 11  yêu thích       123 non-null    int32         \n",
      " 12  haha            123 non-null    int32         \n",
      " 13  wow             123 non-null    int32         \n",
      " 14  thương thương   123 non-null    int32         \n",
      " 15  buồn            123 non-null    int32         \n",
      " 16  phẫn nộ         123 non-null    int32         \n",
      " 17  posted_hour     123 non-null    int64         \n",
      "dtypes: datetime64[ns](1), int32(7), int64(5), object(5)\n",
      "memory usage: 14.1+ KB\n"
     ]
    }
   ],
   "source": [
    "cooked_df.info()"
   ]
  },
  {
   "cell_type": "code",
   "execution_count": 15,
   "metadata": {},
   "outputs": [
    {
     "name": "stdout",
     "output_type": "stream",
     "text": [
      "Kích cỡ dữ liệu thô : 300 x 53\n"
     ]
    }
   ],
   "source": [
    "print(f\"Kích cỡ dữ liệu thô : {raw_df.shape[0]} x {raw_df.shape[1]}\")"
   ]
  },
  {
   "cell_type": "code",
   "execution_count": 16,
   "metadata": {},
   "outputs": [
    {
     "name": "stdout",
     "output_type": "stream",
     "text": [
      "Kích cỡ dữ liệu đã được xử lí : 123 x 18\n"
     ]
    }
   ],
   "source": [
    "print(f\"Kích cỡ dữ liệu đã được xử lí : {cooked_df.shape[0]} x {cooked_df.shape[1]}\")"
   ]
  },
  {
   "cell_type": "markdown",
   "metadata": {},
   "source": [
    "### 2.3.2 Lưu dữ liệu đã xử lí"
   ]
  },
  {
   "cell_type": "code",
   "execution_count": 17,
   "metadata": {},
   "outputs": [],
   "source": [
    "cooked_df.to_csv('Data/GenshinImpact.vi_modified.csv', index=False)"
   ]
  }
 ],
 "metadata": {
  "kernelspec": {
   "display_name": "Python 3",
   "language": "python",
   "name": "python3"
  },
  "language_info": {
   "codemirror_mode": {
    "name": "ipython",
    "version": 3
   },
   "file_extension": ".py",
   "mimetype": "text/x-python",
   "name": "python",
   "nbconvert_exporter": "python",
   "pygments_lexer": "ipython3",
   "version": "3.11.1"
  }
 },
 "nbformat": 4,
 "nbformat_minor": 2
}
